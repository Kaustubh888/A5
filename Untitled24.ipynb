{
 "cells": [
  {
   "cell_type": "code",
   "execution_count": null,
   "id": "0eeda3cd",
   "metadata": {},
   "outputs": [],
   "source": [
    "1.\n",
    "\n",
    "= {}"
   ]
  },
  {
   "cell_type": "code",
   "execution_count": null,
   "id": "61ab1062",
   "metadata": {},
   "outputs": [],
   "source": [
    "2.\n",
    "\n",
    "= dict = {'foo':42}"
   ]
  },
  {
   "cell_type": "code",
   "execution_count": null,
   "id": "f309248c",
   "metadata": {},
   "outputs": [],
   "source": [
    "3.\n",
    "\n",
    "= List is index value pair and Dictionary is key value pair"
   ]
  },
  {
   "cell_type": "code",
   "execution_count": null,
   "id": "f328cf4c",
   "metadata": {},
   "outputs": [],
   "source": [
    "4. What happens if you try to access spam['foo'] if spam is {bar: 100}?\n",
    "\n",
    "= key error"
   ]
  },
  {
   "cell_type": "code",
   "execution_count": null,
   "id": "4096afb0",
   "metadata": {},
   "outputs": [],
   "source": [
    "5. If a dictionary is stored in spam, what is the difference between the expressions 'cat' in spam and\n",
    "'cat' in spam.keys()?\n",
    "\n",
    "= cat in expression is a value and cat in spam.keys() is a key"
   ]
  },
  {
   "cell_type": "code",
   "execution_count": null,
   "id": "0376792c",
   "metadata": {},
   "outputs": [],
   "source": [
    "6.\n",
    "\n",
    "= cat in expression is a value and cat in spam.values is value"
   ]
  },
  {
   "cell_type": "code",
   "execution_count": null,
   "id": "571f6ebc",
   "metadata": {},
   "outputs": [],
   "source": [
    "7.\n",
    "\n",
    "= if spam['color']=='black':"
   ]
  },
  {
   "cell_type": "code",
   "execution_count": null,
   "id": "693a2f97",
   "metadata": {},
   "outputs": [],
   "source": [
    "8.\n",
    "\n",
    "=  Using import pprint module and prettyprinter function\n"
   ]
  }
 ],
 "metadata": {
  "kernelspec": {
   "display_name": "Python 3",
   "language": "python",
   "name": "python3"
  },
  "language_info": {
   "codemirror_mode": {
    "name": "ipython",
    "version": 3
   },
   "file_extension": ".py",
   "mimetype": "text/x-python",
   "name": "python",
   "nbconvert_exporter": "python",
   "pygments_lexer": "ipython3",
   "version": "3.8.8"
  }
 },
 "nbformat": 4,
 "nbformat_minor": 5
}
